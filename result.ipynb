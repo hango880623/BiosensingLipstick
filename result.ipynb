{
 "cells": [
  {
   "cell_type": "code",
   "execution_count": 2,
   "metadata": {},
   "outputs": [],
   "source": [
    "from data_loader import dataLoader, api_dataLoader, dataLoader_diff\n",
    "from training import train\n",
    "import torch\n",
    "import time\n",
    "\n",
    "from evaluations import plotLossGraph, evaluation\n",
    "from show_images import show_all_images\n",
    "import os\n",
    "import torch"
   ]
  },
  {
   "cell_type": "code",
   "execution_count": null,
   "metadata": {},
   "outputs": [],
   "source": [
    "from data_loader import dataLoader, dataLoader_diff\n",
    "from training import train\n",
    "import torch\n",
    "import time\n",
    "\n",
    "torch.manual_seed(99)\n",
    "if torch.backends.mps.is_available():\n",
    "    mps_device = torch.device(\"mps\")\n",
    "    x = torch.ones(1, device=mps_device)\n",
    "    print (x)\n",
    "else:\n",
    "    print (\"MPS device not found.\")\n",
    "\n",
    "full_path = './content/whole/lips/'\n",
    "base_path = full_path\n",
    "train_loader, valid_loader, test_loader = dataLoader(base_path)\n",
    "\n",
    "start_time = time.time()\n",
    "# model_types = ['customresnet','resnet50','resnet18', 'smallcnn']\n",
    "result_folder = './results/results_2024-05-21-p-lopo-pixel-rgb-color-jitter/'\n",
    "model_path = train(result_folder, train_loader, valid_loader, model_type = 'resnet18', num_epochs = 301, learning_rate = 0.001, pretrained=False)\n",
    "\n",
    "end_time = time.time()\n",
    "\n",
    "elapsed_time = end_time - start_time\n",
    "print(f\"Training time: {elapsed_time} seconds\")\n",
    "\n",
    "elapsed_time_minutes = elapsed_time / 60\n",
    "\n",
    "print(f\"Training time: {elapsed_time_minutes:.2f} minutes\")"
   ]
  },
  {
   "cell_type": "code",
   "execution_count": null,
   "metadata": {},
   "outputs": [],
   "source": [
    "from evaluations import plotLossGraph, evaluation\n",
    "from data_loader import dataLoader, dataLoader_seperate, dataLoader_diff,api_dataLoader\n",
    "from show_images import show_all_images\n",
    "import os\n",
    "import torch\n",
    "\n",
    "from show_images import show_evaluation_images\n",
    "\n",
    "torch.manual_seed(99)\n",
    "\n",
    "folder_path = './content/Dataset/Paper/'\n",
    "train_loader, valid_loader, test_loader = dataLoader(folder_path)\n",
    "# valid_loader = api_dataLoader(folder_path)\n",
    "# model_types = ['customresnet','resnet50','resnet18', 'smallcnn']\n",
    "result_folder = './results/results_2024-05-24-dataset-paper-resnet18/'\n",
    "\n",
    "train_losses = [float(line.strip()) for line in open(os.path.join(result_folder,'train_losses.txt'),'r')]\n",
    "valid_losses = [float(line.strip()) for line in open(os.path.join(result_folder,'valid_losses.txt'),'r')]\n",
    "plotLossGraph(train_losses,valid_losses)\n",
    "\n",
    "model, test_plots = evaluation(test_loader, result_folder,'best_100.pth', model_type = 'resnet18', num_classes = 4)\n",
    "\n",
    "class_labels = ['50','60','70','80']\n",
    "show_evaluation_images(test_plots, folder_path,result_folder, class_labels=class_labels, num_cols=4)"
   ]
  },
  {
   "cell_type": "code",
   "execution_count": null,
   "metadata": {},
   "outputs": [],
   "source": [
    "from data_loader import api_dataLoader, random_dataLoader, dataLoader_diff\n",
    "from show_images import show_evaluation_images\n",
    "\n",
    "folder_path = './content/Dataset/PaperLOPOChange/TestPixel/'\n",
    "result_folder = './results/results_2024-05-24-dataset-paper-resnet18'\n",
    "\n",
    "loader = api_dataLoader(folder_path)\n",
    "\n",
    "model, test_plots = evaluation(loader, result_folder,'best_100.pth', model_type = 'resnet18', num_classes = 4)\n",
    "\n",
    "class_labels = ['50','60','70','80']\n",
    "show_evaluation_images(test_plots, folder_path,result_folder, class_labels=class_labels, num_cols=4,show = True)"
   ]
  }
 ],
 "metadata": {
  "kernelspec": {
   "display_name": "venv",
   "language": "python",
   "name": "python3"
  },
  "language_info": {
   "codemirror_mode": {
    "name": "ipython",
    "version": 3
   },
   "file_extension": ".py",
   "mimetype": "text/x-python",
   "name": "python",
   "nbconvert_exporter": "python",
   "pygments_lexer": "ipython3",
   "version": "3.11.7"
  }
 },
 "nbformat": 4,
 "nbformat_minor": 2
}
