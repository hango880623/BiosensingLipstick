{
 "cells": [
  {
   "cell_type": "code",
   "execution_count": null,
   "metadata": {},
   "outputs": [],
   "source": [
    "from evaluations import plotLossGraph, evaluation\n",
    "from data_loader import dataLoader\n",
    "import os\n",
    "# read the txt file from results folder\n",
    "result_folder = 'results'\n",
    "train_losses = open(os.path.join(result_folder,'train_losses.txt'),'r')\n",
    "valid_losses = open(os.path.join(result_folder,'valid_losses.txt'),'r')\n",
    "\n",
    "full_path = './content/Full/lips/'\n",
    "base_path = full_path\n",
    "model_path = os.path.join(result_folder,'best_resnet18_0.001_1.pth')\n",
    "plotLossGraph(train_losses,valid_losses)\n",
    "train_loader, valid_loader, test_loader = dataLoader(base_path)\n",
    "model = evaluation(test_loader, model_path, model_type = 'resnet18')"
   ]
  },
  {
   "cell_type": "code",
   "execution_count": null,
   "metadata": {},
   "outputs": [],
   "source": [
    "from show_images import show_all_images_with_labels\n",
    "class_labels = ['5.5','6.0','6.5','7.0','7.5','8.0']\n",
    "show_all_images_with_labels(test_loader, model, class_labels)"
   ]
  }
 ],
 "metadata": {
  "language_info": {
   "name": "python"
  }
 },
 "nbformat": 4,
 "nbformat_minor": 2
}
