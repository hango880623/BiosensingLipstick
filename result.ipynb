{
 "cells": [
  {
   "cell_type": "code",
   "execution_count": null,
   "metadata": {},
   "outputs": [],
   "source": [
    "from load_data import cleanDS_Store\n",
    "from data_loader import dataLoader\n",
    "from training import train\n",
    "import torch\n",
    "import time\n",
    "\n",
    "torch.manual_seed(99)\n",
    "if torch.backends.mps.is_available():\n",
    "    mps_device = torch.device(\"mps\")\n",
    "    x = torch.ones(1, device=mps_device)\n",
    "    print (x)\n",
    "else:\n",
    "    print (\"MPS device not found.\")\n",
    "\n",
    "full_path = './content/#6Lips/lips/'\n",
    "base_path = full_path\n",
    "cleanDS_Store(base_path)\n",
    "train_loader, valid_loader, test_loader = dataLoader(base_path)\n",
    "\n",
    "start_time = time.time()\n",
    "# model_types = ['customresnet','resnet50','resnet18']\n",
    "train_losses, valid_losses, model_path = train(train_loader, valid_loader, model_type = 'resnet18', num_epochs = 50, learning_rate = 0.001)\n",
    "\n",
    "end_time = time.time()\n",
    "\n",
    "elapsed_time = end_time - start_time\n",
    "print(f\"Training time: {elapsed_time} seconds\")\n",
    "\n",
    "elapsed_time_minutes = elapsed_time / 60\n",
    "\n",
    "print(f\"Training time: {elapsed_time_minutes:.2f} minutes\")"
   ]
  },
  {
   "cell_type": "code",
   "execution_count": null,
   "metadata": {},
   "outputs": [],
   "source": [
    "from evaluations import plotLossGraph, evaluation\n",
    "from data_loader import dataLoader, original_dataLoader\n",
    "from show_images import show_all_images\n",
    "import os\n",
    "import torch\n",
    "from load_data import cleanDS_Store\n",
    "torch.manual_seed(99)\n",
    "\n",
    "# read the txt file from results folder\n",
    "result_folder = './results/results_2024-05-14_15-34-24'\n",
    "train_losses = [float(line.strip()) for line in open(os.path.join(result_folder,'train_losses.txt'),'r')]\n",
    "valid_losses = [float(line.strip()) for line in open(os.path.join(result_folder,'valid_losses.txt'),'r')]\n",
    "plotLossGraph(train_losses,valid_losses)\n",
    "\n",
    "full_path = './content/#6Lips/lips/'\n",
    "base_path = full_path\n",
    "cleanDS_Store(base_path)\n",
    "train_loader, valid_loader, test_loader = dataLoader(base_path)\n",
    "\n",
    "model_path = os.path.join(result_folder,'best_resnet18_0.001_50.pth')\n",
    "\n",
    "model, test_plots = evaluation(test_loader, model_path, model_type = 'resnet18')"
   ]
  },
  {
   "cell_type": "code",
   "execution_count": null,
   "metadata": {},
   "outputs": [],
   "source": [
    "from show_images import show_evaluation_images\n",
    "class_labels = ['5.5','6.0','6.5','7.0','8.0']\n",
    "show_evaluation_images(test_plots, base_path, class_labels=class_labels, num_cols=4)"
   ]
  },
  {
   "cell_type": "code",
   "execution_count": null,
   "metadata": {},
   "outputs": [],
   "source": [
    "from data_loader import api_dataLoader\n",
    "full_path = './content/TestNicole/lips/'\n",
    "base_path = full_path\n",
    "cleanDS_Store(base_path)\n",
    "\n",
    "model_path = os.path.join(result_folder,'best_resnet18_0.001_50.pth')\n",
    "\n",
    "loader = api_dataLoader(base_path)\n",
    "model, test_plots = evaluation(loader, model_path, model_type = 'resnet18')\n"
   ]
  },
  {
   "cell_type": "code",
   "execution_count": null,
   "metadata": {},
   "outputs": [],
   "source": [
    "from show_images import show_evaluation_images\n",
    "class_labels = ['5.5','6.0','6.5','7.0','8.0']\n",
    "show_evaluation_images(test_plots, base_path, class_labels=class_labels, num_cols=4)"
   ]
  }
 ],
 "metadata": {
  "kernelspec": {
   "display_name": "venv",
   "language": "python",
   "name": "python3"
  },
  "language_info": {
   "codemirror_mode": {
    "name": "ipython",
    "version": 3
   },
   "file_extension": ".py",
   "mimetype": "text/x-python",
   "name": "python",
   "nbconvert_exporter": "python",
   "pygments_lexer": "ipython3",
   "version": "3.11.7"
  }
 },
 "nbformat": 4,
 "nbformat_minor": 2
}
